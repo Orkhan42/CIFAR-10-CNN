{
 "cells": [
  {
   "cell_type": "code",
   "execution_count": null,
   "id": "f06f4550",
   "metadata": {},
   "outputs": [],
   "source": [
    "import os\n",
    "import cv2\n",
    "import numpy as np\n",
    "from sklearn.utils import shuffle\n",
    "from random import randint\n",
    "\n",
    "import tensorflow as tf\n",
    "import matplotlib.pyplot as plt\n",
    "from keras.preprocessing.image import ImageDataGenerator,img_to_array,load_img\n",
    "from PIL import Image\n",
    "from tensorflow.keras.preprocessing.image import ImageDataGenerator\n",
    "from keras.callbacks import ReduceLROnPlateau\n",
    "from keras.applications.inception_v3 import InceptionV3"
   ]
  },
  {
   "cell_type": "code",
   "execution_count": null,
   "id": "571c7c98",
   "metadata": {},
   "outputs": [],
   "source": [
    "def get_images(directory):\n",
    "    Images = []\n",
    "    Labels = []  # 0 for Building , 1 for forest, 2 for glacier, 3 for mountain, 4 for Sea , 5 for Street\n",
    "    label = 0\n",
    "    \n",
    "    for labels in os.listdir(directory): #Main Directory where each class label is present as folder name.\n",
    "        if labels == 'glacier': #Folder contain Glacier Images get the '2' class label.\n",
    "            label = 2\n",
    "        elif labels == 'sea':\n",
    "            label = 4\n",
    "        elif labels == 'buildings':\n",
    "            label = 0\n",
    "        elif labels == 'forest':\n",
    "            label = 1\n",
    "        elif labels == 'street':\n",
    "            label = 5\n",
    "        elif labels == 'mountain':\n",
    "            label = 3\n",
    "        \n",
    "        for image_file in os.listdir(directory+labels): #Extracting the file name of the image from Class Label folder\n",
    "            image = cv2.imread(directory+labels+r'/'+image_file) #Reading the image (OpenCV)\n",
    "            image = cv2.resize(image,(150,150)) #Resize the image, Some images are different sizes. (Resizing is very Important)\n",
    "            Images.append(image)\n",
    "            Labels.append(label)\n",
    "        \n",
    "#     return Images, Labels\n",
    "    return shuffle(Images,Labels,random_state=817328462) #Shuffle the dataset you just prepared.\n",
    "\n",
    "def get_classlabel(class_code):\n",
    "    labels = {2:'glacier', 4:'sea', 0:'buildings', 1:'forest', 5:'street', 3:'mountain'}\n",
    "    \n",
    "    return labels[class_code]"
   ]
  },
  {
   "cell_type": "code",
   "execution_count": null,
   "id": "6ba8cdc0",
   "metadata": {},
   "outputs": [],
   "source": [
    "Images, Labels = get_images('../input/intel-image-classification/seg_train/seg_train/') #Extract the training images from the folders.\n",
    "\n",
    "Images = np.array(Images, dtype=np.float32) #converting the list of images to numpy array.\n",
    "Images = Images/255.0\n",
    "Labels = np.array(Labels)"
   ]
  },
  {
   "cell_type": "code",
   "execution_count": null,
   "id": "db34b34b",
   "metadata": {},
   "outputs": [],
   "source": [
    "f,ax = plt.subplots(5,5) \n",
    "f.subplots_adjust(0,0,3,3)\n",
    "for i in range(0,5,1):\n",
    "    for j in range(0,5,1):\n",
    "        rnd_number = randint(0,len(Images))\n",
    "        ax[i,j].imshow(Images[rnd_number])\n",
    "        ax[i,j].set_title(get_classlabel(Labels[rnd_number]))\n",
    "        ax[i,j].axis('off')"
   ]
  },
  {
   "cell_type": "code",
   "execution_count": null,
   "id": "1bcd128d",
   "metadata": {},
   "outputs": [],
   "source": [
    "train_DIR = \"/kaggle/input/intel-image-classification/seg_train/seg_train/\"\n",
    "​\n",
    "train_datagen = ImageDataGenerator( rescale = 1.0/255,\n",
    "                                          width_shift_range=0.2,\n",
    "                                          height_shift_range=0.2,\n",
    "                                          zoom_range=0.2,\n",
    "                                          vertical_flip=True,\n",
    "                                          fill_mode='nearest')\n",
    "​\n",
    "​\n",
    "train_generator = train_datagen.flow_from_directory(train_DIR,\n",
    "                                                    batch_size=32,\n",
    "                                                    class_mode='categorical',\n",
    "                                                    target_size=(150, 150))\n",
    "​\n",
    "test_DIR = \"/kaggle/input/intel-image-classification/seg_test/seg_test/\"\n",
    "​\n",
    "validation_datagen = ImageDataGenerator(rescale = 1.0/255)\n",
    "​\n",
    "​\n",
    "validation_generator = validation_datagen.flow_from_directory(test_DIR,\n",
    "                                                    batch_size=128,\n",
    "                                                    class_mode='categorical',\n",
    "                                                    target_size=(150, 150))"
   ]
  },
  {
   "cell_type": "code",
   "execution_count": null,
   "id": "fb08c687",
   "metadata": {},
   "outputs": [],
   "source": [
    "inceptionV3 = InceptionV3(include_top= False, input_shape=(150,150,3))\n",
    "\n",
    "for layer in inceptionV3.layers:\n",
    "    layer.trainable = False"
   ]
  },
  {
   "cell_type": "code",
   "execution_count": null,
   "id": "f3c85a14",
   "metadata": {},
   "outputs": [],
   "source": [
    "last_layer = inceptionV3.get_layer('mixed9')\n",
    "\n",
    "print('last layer output shape: ', last_layer.output_shape)\n",
    "\n",
    "last_output = last_layer.output"
   ]
  },
  {
   "cell_type": "code",
   "execution_count": null,
   "id": "6bc14cbb",
   "metadata": {},
   "outputs": [],
   "source": [
    "x = tf.keras.layers.Flatten()(last_output)\n",
    "x = tf.keras.layers.Dense(units = 1024, activation = tf.nn.relu)(x)\n",
    "x = tf.keras.layers.Dropout(0.2)(x)\n",
    "x = tf.keras.layers.Dense  (6, activation = tf.nn.softmax)(x)\n",
    "​\n",
    "model = tf.keras.Model( inceptionV3.input, x)\n",
    "​\n",
    "learning_rate_reduction = ReduceLROnPlateau(monitor='val_acc',\n",
    "                                            patience=1,\n",
    "                                            verbose=1,\n",
    "                                            factor=0.25,\n",
    "                                            min_lr=0.000003)\n",
    "​\n",
    "model.compile(loss = 'categorical_crossentropy', optimizer= tf.keras.optimizers.Adam(), metrics=['acc'])\n",
    "​\n",
    "model.summary()"
   ]
  },
  {
   "cell_type": "code",
   "execution_count": null,
   "id": "c365cbc0",
   "metadata": {},
   "outputs": [],
   "source": [
    "history = model.fit(train_generator,\n",
    "                    epochs = 10,\n",
    "                    verbose = 1,\n",
    "                   validation_data = validation_generator,\n",
    "                   callbacks=[learning_rate_reduction])"
   ]
  },
  {
   "cell_type": "code",
   "execution_count": null,
   "id": "81d13ac5",
   "metadata": {},
   "outputs": [],
   "source": [
    "%matplotlib inline\n",
    "acc = history.history['acc']\n",
    "val_acc = history.history['val_acc']\n",
    "loss = history.history['loss']\n",
    "val_loss = history.history['val_loss']\n",
    "\n",
    "epochs = range(len(acc))\n",
    "\n",
    "plt.plot(epochs, acc, 'r', label='Training accuracy')\n",
    "plt.plot(epochs, val_acc, 'b', label='Validation accuracy')\n",
    "plt.title('Training and validation accuracy')\n",
    "plt.legend()\n",
    "plt.figure()\n",
    "\n",
    "plt.plot(epochs, loss, 'r', label='Training Loss')\n",
    "plt.plot(epochs, val_loss, 'b', label='Validation Loss')\n",
    "plt.title('Training and validation loss')\n",
    "plt.legend()\n",
    "\n",
    "plt.show()"
   ]
  },
  {
   "cell_type": "code",
   "execution_count": null,
   "id": "cd32bd11",
   "metadata": {},
   "outputs": [],
   "source": [
    "import numpy as np\n",
    "from keras.preprocessing import image\n",
    "\n",
    "file_path =  '../input/intel-image-classification/seg_pred/seg_pred/10073.jpg'\n",
    "\n",
    "test_image = image.load_img(file_path, target_size = (150, 150))\n",
    "plt.imshow(test_image)\n",
    "test_image = image.img_to_array(test_image)\n",
    "test_image = np.expand_dims(test_image, axis = 0)\n",
    "result = model.predict(test_image)\n",
    "\n",
    "classes=train_generator.class_indices\n",
    "\n",
    "classes=['buildings','forest','glacier','mountain','sea','street']\n",
    "\n",
    "print(\"Prediction for this image is :\",classes[np.argmax(result)])"
   ]
  },
  {
   "cell_type": "code",
   "execution_count": null,
   "id": "d91fa636",
   "metadata": {},
   "outputs": [],
   "source": []
  }
 ],
 "metadata": {
  "kernelspec": {
   "display_name": "Python 3",
   "language": "python",
   "name": "python3"
  },
  "language_info": {
   "codemirror_mode": {
    "name": "ipython",
    "version": 3
   },
   "file_extension": ".py",
   "mimetype": "text/x-python",
   "name": "python",
   "nbconvert_exporter": "python",
   "pygments_lexer": "ipython3",
   "version": "3.8.8"
  }
 },
 "nbformat": 4,
 "nbformat_minor": 5
}
